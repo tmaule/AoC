{
 "cells": [
  {
   "cell_type": "code",
   "execution_count": 1,
   "metadata": {},
   "outputs": [
    {
     "name": "stdout",
     "output_type": "stream",
     "text": [
      "138\n"
     ]
    }
   ],
   "source": [
    "#one/one\n",
    "file = open('day_1.txt')\n",
    "\n",
    "floor = 0\n",
    "for line in file:\n",
    "    for c in line:\n",
    "        if c == '(':\n",
    "            floor += 1\n",
    "        elif c == ')':\n",
    "            floor -= 1\n",
    "print(floor)"
   ]
  },
  {
   "cell_type": "code",
   "execution_count": 2,
   "metadata": {},
   "outputs": [
    {
     "name": "stdout",
     "output_type": "stream",
     "text": [
      "1771\n",
      "1773\n",
      "1775\n",
      "1787\n",
      "6231\n",
      "6233\n"
     ]
    }
   ],
   "source": [
    "#one/two\n",
    "file = open('day_1.txt')\n",
    "\n",
    "floor = 0\n",
    "pos = 0\n",
    "for line in file:\n",
    "    for c in line:\n",
    "        pos += 1\n",
    "        if c == '(':\n",
    "            floor += 1\n",
    "        elif c == ')':\n",
    "            floor -= 1\n",
    "        if floor == -1:\n",
    "            print(pos)"
   ]
  },
  {
   "cell_type": "code",
   "execution_count": 3,
   "metadata": {},
   "outputs": [
    {
     "name": "stdout",
     "output_type": "stream",
     "text": [
      "1598415 3812909\n"
     ]
    }
   ],
   "source": [
    "#day two\n",
    "with open('day_2.txt') as file:\n",
    "    data = file.readlines()\n",
    "    \n",
    "tot_sq_ft = 0\n",
    "tot_ribbon = 0\n",
    "for line in data:\n",
    "    l, w, h = map(int, line.split('x'))\n",
    "    sa = 2*l*w + 2*w*h + 2*h*l\n",
    "    smallest = sorted([l, w, h])\n",
    "    extra = smallest[0] * smallest[1]\n",
    "    tot_sq_ft += (sa + extra)\n",
    "    #part two\n",
    "    least_perim = smallest[0]*2 + smallest[1]*2\n",
    "    volume = l*w*h\n",
    "    tot_ribbon += (least_perim + volume)\n",
    "\n",
    "print(tot_sq_ft, tot_ribbon)"
   ]
  },
  {
   "cell_type": "code",
   "execution_count": 4,
   "metadata": {},
   "outputs": [
    {
     "name": "stdout",
     "output_type": "stream",
     "text": [
      "2592\n"
     ]
    }
   ],
   "source": [
    "#three/one\n",
    "with open('day_3.txt') as file:\n",
    "    data = file.readlines()\n",
    "\n",
    "x = 0\n",
    "y = 0\n",
    "visited = {(x,y)}\n",
    "moves = {'>':(1,0), '<':(-1,0), '^':(0,1), 'v':(0,-1)}\n",
    "for c in data[0]:\n",
    "    move = moves[c]\n",
    "    x += move[0]\n",
    "    y += move[1]\n",
    "    visited.add((x,y))\n",
    "\n",
    "print(len(visited))"
   ]
  },
  {
   "cell_type": "code",
   "execution_count": 5,
   "metadata": {},
   "outputs": [
    {
     "name": "stdout",
     "output_type": "stream",
     "text": [
      "2360\n"
     ]
    }
   ],
   "source": [
    "#three/two\n",
    "x = 0\n",
    "y = 0\n",
    "robo_x = 0\n",
    "robo_y = 0\n",
    "robo_santa = False\n",
    "visited = {(x,y)}\n",
    "moves = {'>':(1,0), '<':(-1,0), '^':(0,1), 'v':(0,-1)}\n",
    "for c in data[0]:\n",
    "    move = moves[c]\n",
    "    if robo_santa:\n",
    "        robo_x += move[0]\n",
    "        robo_y += move[1]\n",
    "        visited.add((robo_x,robo_y))\n",
    "        robo_santa = False\n",
    "    else:\n",
    "        x += move[0]\n",
    "        y += move[1]\n",
    "        visited.add((x,y))\n",
    "        robo_santa = True\n",
    "\n",
    "print(len(visited))"
   ]
  },
  {
   "cell_type": "code",
   "execution_count": 6,
   "metadata": {},
   "outputs": [
    {
     "name": "stdout",
     "output_type": "stream",
     "text": [
      "282749 9962624\n"
     ]
    }
   ],
   "source": [
    "#day four\n",
    "import hashlib\n",
    "\n",
    "day_four = 'yzbqklnj'\n",
    "x = 0\n",
    "done = False\n",
    "while not done:\n",
    "    x += 1\n",
    "    my_str = day_four + str(x)\n",
    "    my_hash = hashlib.md5(my_str.encode('utf-8')).hexdigest()\n",
    "    if my_hash[:5].isnumeric():\n",
    "        if int(my_hash[:5]) == 0:\n",
    "            done = True\n",
    "# part two\n",
    "y = 0\n",
    "done = False\n",
    "while not done:\n",
    "    y += 1\n",
    "    my_str = day_four + str(y)\n",
    "    my_hash = hashlib.md5(my_str.encode('utf-8')).hexdigest()\n",
    "    if my_hash[:6].isnumeric():\n",
    "        if int(my_hash[:6]) == 0:\n",
    "            done = True\n",
    "print(x, y)"
   ]
  },
  {
   "cell_type": "code",
   "execution_count": 7,
   "metadata": {},
   "outputs": [
    {
     "name": "stdout",
     "output_type": "stream",
     "text": [
      "238\n"
     ]
    }
   ],
   "source": [
    "#five\n",
    "with open('day_5.txt') as file:\n",
    "    data = file.readlines()\n",
    "\n",
    "bad_snippets = ['ab', 'cd', 'pq', 'xy']\n",
    "vowels = ['a', 'e', 'i', 'o', 'u']\n",
    "def naughty_or_nice(string):\n",
    "    if any(snip in string for snip in bad_snippets):\n",
    "        return 'naughty'\n",
    "    my_vowels = 0\n",
    "    has_double = False\n",
    "    for i in range(len(string)):\n",
    "        if string[i] in vowels:\n",
    "            my_vowels += 1\n",
    "        if i > 0 and not has_double:\n",
    "            if string[i] == string[i-1]:\n",
    "                has_double = True\n",
    "    if has_double and my_vowels >= 3:\n",
    "        return 'nice'\n",
    "    else:\n",
    "        return 'naughty'\n",
    "    \n",
    "nice_strings = 0\n",
    "for string in data:\n",
    "    if naughty_or_nice(string) == 'nice':\n",
    "        nice_strings += 1\n",
    "print(nice_strings)"
   ]
  },
  {
   "cell_type": "code",
   "execution_count": 8,
   "metadata": {},
   "outputs": [
    {
     "name": "stdout",
     "output_type": "stream",
     "text": [
      "69\n"
     ]
    }
   ],
   "source": [
    "#five/two\n",
    "with open('day_5.txt') as file:\n",
    "    data = file.readlines()\n",
    "def naughty_or_nice_2(string):\n",
    "    string = string.strip()\n",
    "    twice_pair = False\n",
    "    xyx = False\n",
    "    len_str = len(string)\n",
    "    pairs = dict()\n",
    "    for i in range(len_str):\n",
    "        c1 = string[i]\n",
    "        if i < len_str-1: #create pairs to test later for criteria one\n",
    "            c2 = string[i+1]\n",
    "            dbl = f'{c1}{c2}'\n",
    "            if dbl in pairs:\n",
    "                pairs[dbl].append(i)\n",
    "            else:\n",
    "                pairs[dbl] = [i]\n",
    "        if i < len_str-2 and not xyx: #test criteria two using triples\n",
    "            c3 = string[i+2]\n",
    "            if c3 == c1:\n",
    "                xyx = True\n",
    "    for d in pairs: #now eval criteria one\n",
    "        indices = pairs[d]\n",
    "        if len(indices) > 1 and not twice_pair:\n",
    "            if max(indices) > (min(indices)+1):\n",
    "                twice_pair = True\n",
    "#     print(string, twice_pair, xyx)\n",
    "    if twice_pair and xyx:\n",
    "        return 1\n",
    "    else:\n",
    "        return 0\n",
    "    \n",
    "test_data = ['qjhvhtzxzqqjkmpb', 'xxyxx', 'uurcxstgmygtbstg', 'ieodomkazucvgmuy']\n",
    "nice_strings = 0\n",
    "for string in data:\n",
    "    nice_strings += naughty_or_nice_2(string)\n",
    "print(nice_strings)"
   ]
  },
  {
   "cell_type": "code",
   "execution_count": 9,
   "metadata": {},
   "outputs": [
    {
     "name": "stdout",
     "output_type": "stream",
     "text": [
      "543903 14687245\n"
     ]
    }
   ],
   "source": [
    "#six\n",
    "import numpy as np\n",
    "with open('day_6.txt') as file:\n",
    "    data = file.readlines()\n",
    "\n",
    "lights = np.zeros((1000, 1000))\n",
    "for line in data:\n",
    "    head, tail = line.split(' through ')\n",
    "    head = head.split(' ')\n",
    "    if 'turn' in head:\n",
    "        head.remove('turn')\n",
    "    instr, start = head\n",
    "    x_start, y_start = map(int, start.split(','))\n",
    "    x_end, y_end = map(int, tail.split(','))\n",
    "    x_end, y_end = x_end+1, y_end+1 #match 'through' convention\n",
    "    if instr == 'on':\n",
    "        lights[x_start:x_end, y_start:y_end] = 1\n",
    "    elif instr == 'off':\n",
    "        lights[x_start:x_end, y_start:y_end] = 0\n",
    "    elif instr == 'toggle':\n",
    "        lights[x_start:x_end, y_start:y_end] = 1 - lights[x_start:x_end, y_start:y_end]\n",
    "pt_one = int(lights.sum())\n",
    "#part two\n",
    "lights = np.zeros((1000, 1000))\n",
    "for line in data:\n",
    "    head, tail = line.split(' through ')\n",
    "    head = head.split(' ')\n",
    "    if 'turn' in head:\n",
    "        head.remove('turn')\n",
    "    instr, start = head\n",
    "    x_start, y_start = map(int, start.split(','))\n",
    "    x_end, y_end = map(int, tail.split(','))\n",
    "    x_end, y_end = x_end+1, y_end+1 #match 'through' convention\n",
    "    if instr == 'on':\n",
    "        lights[x_start:x_end, y_start:y_end] += 1\n",
    "    elif instr == 'off':\n",
    "        lights[x_start:x_end, y_start:y_end] -= 1\n",
    "        lights[lights < 0] = 0 #brightness cannot go negative\n",
    "    elif instr == 'toggle':\n",
    "        lights[x_start:x_end, y_start:y_end] += 2\n",
    "pt_two = int(lights.sum())\n",
    "print(pt_one, pt_two)"
   ]
  },
  {
   "cell_type": "code",
   "execution_count": 73,
   "metadata": {},
   "outputs": [
    {
     "name": "stdout",
     "output_type": "stream",
     "text": [
      "pt1: 3176, pt2: 14710\n"
     ]
    }
   ],
   "source": [
    "#seven\n",
    "data = [x.strip() for x in open('day_7.txt')]    \n",
    "test_data = [x.strip() for x in open('test.txt')]   \n",
    "\n",
    "def num_to_bin(num):\n",
    "    return format(num, '016b')\n",
    "def bin_to_num(bin):\n",
    "    return int(bin, 2)\n",
    "def bit_and_or(AND_OR, s1, s2):\n",
    "    res = list(format(0, '016b'))\n",
    "    for i in range(16):\n",
    "#         print(s1, s2)\n",
    "        if AND_OR == 'AND':\n",
    "            if s1[i] == '1' and s2[i] == '1':\n",
    "                res[i] = '1'\n",
    "        elif AND_OR == 'OR':\n",
    "            if s1[i] == '1' or s2[i] == '1':\n",
    "                res[i] = '1'\n",
    "    return ''.join(res)\n",
    "def bit_not(s1):\n",
    "    res = list(format(0, '016b'))\n",
    "    for i in range(16):\n",
    "        if s1[i] == '0':\n",
    "            res[i] = '1'\n",
    "    return ''.join(res)\n",
    "def shift(s1, L_R, magnitude):\n",
    "    magnitude = int(magnitude)\n",
    "    res = list(format(0, '016b'))\n",
    "    for i in range(16 - magnitude):\n",
    "        if L_R == 'L':\n",
    "            res[i] = s1[i+magnitude]\n",
    "        elif L_R == 'R':\n",
    "            res[i+magnitude] = s1[i]\n",
    "    return ''.join(res)\n",
    "def parse_data(data):\n",
    "    signals_bin = dict()\n",
    "    operats = dict()\n",
    "    dependents = dict()\n",
    "    for entry in data:\n",
    "        head, gate = entry.split(' -> ')\n",
    "        head = head.split(' ')\n",
    "        if len(head) == 1:\n",
    "            if gate in override: #for pt 2\n",
    "                head[0] = override[gate]\n",
    "            if head[0].isnumeric():\n",
    "                signals_bin[gate] = num_to_bin(int(head[0]))\n",
    "            else:\n",
    "                operats[gate] = 'PASS'\n",
    "                dependents[gate] = head[0]\n",
    "        elif len(head) == 2:\n",
    "            operats[gate] = head[0] #NOT operator\n",
    "            dependents[gate] = head[1]\n",
    "        else:\n",
    "            operats[gate] = head[1]\n",
    "            dependents[gate] = [head[0], head[2]]\n",
    "    while operats != dict():\n",
    "        for gate in sorted(operats):\n",
    "#             print('--starting--', gate)\n",
    "            if operats[gate] == 'LSHIFT' and dependents[gate][0] in signals_bin:\n",
    "                signals_bin[gate] = shift(signals_bin[dependents[gate][0]], 'L', dependents[gate][1])\n",
    "                operats.pop(gate, None)\n",
    "            elif operats[gate] == 'RSHIFT' and dependents[gate][0] in signals_bin:\n",
    "                signals_bin[gate] = shift(signals_bin[dependents[gate][0]], 'R', dependents[gate][1])\n",
    "                operats.pop(gate, None)\n",
    "            elif operats[gate] == 'NOT' and dependents[gate] in signals_bin:\n",
    "                signals_bin[gate] = bit_not(signals_bin[dependents[gate]])\n",
    "                operats.pop(gate, None)\n",
    "            elif operats[gate] == 'PASS' and dependents[gate] in signals_bin:\n",
    "                signals_bin[gate] = signals_bin[dependents[gate]]\n",
    "                operats.pop(gate, None)\n",
    "            elif operats[gate] == 'AND' or operats[gate] == 'OR':\n",
    "                valid = True\n",
    "                deps = dependents[gate]\n",
    "                for i in range(2):\n",
    "                    if deps[i].isnumeric():\n",
    "                        if len(deps[i]) < 16:\n",
    "                            deps[i] = num_to_bin(int(deps[i]))\n",
    "                    elif deps[i] in signals_bin:\n",
    "                        deps[i] = signals_bin[deps[i]]\n",
    "                    else:\n",
    "                        valid = False\n",
    "                if valid:\n",
    "                    signals_bin[gate] = bit_and_or(operats[gate], deps[0], deps[1])\n",
    "                    operats.pop(gate, None)\n",
    "    return signals_bin\n",
    "\n",
    "override = dict()\n",
    "signals_bin = parse_data(data)\n",
    "pt1 = bin_to_num(signals_bin['a'])\n",
    "override['b'] = str(pt1)\n",
    "signals_bin = parse_data(data)\n",
    "pt2 = bin_to_num(signals_bin['a'])\n",
    "print(f'pt1: {pt1}, pt2: {pt2}')"
   ]
  },
  {
   "cell_type": "code",
   "execution_count": null,
   "metadata": {},
   "outputs": [],
   "source": []
  }
 ],
 "metadata": {
  "kernelspec": {
   "display_name": "Python 3",
   "language": "python",
   "name": "python3"
  },
  "language_info": {
   "codemirror_mode": {
    "name": "ipython",
    "version": 3
   },
   "file_extension": ".py",
   "mimetype": "text/x-python",
   "name": "python",
   "nbconvert_exporter": "python",
   "pygments_lexer": "ipython3",
   "version": "3.8.5"
  }
 },
 "nbformat": 4,
 "nbformat_minor": 4
}
