{
 "cells": [
  {
   "cell_type": "code",
   "execution_count": 46,
   "metadata": {},
   "outputs": [
    {
     "name": "stdout",
     "output_type": "stream",
     "text": [
      "pt1: 24000, pt2: 45000\n",
      "pt1: 69177, pt2: 207456\n"
     ]
    }
   ],
   "source": [
    "#one\n",
    "def run(my_file):\n",
    "    inv = open(my_file).read().strip().split('\\n')\n",
    "    count = 0\n",
    "    elves = []\n",
    "    for line in inv:\n",
    "        if line == '':\n",
    "            elves.append(count)\n",
    "            count = 0\n",
    "        else:\n",
    "            count += int(line)\n",
    "    elves.append(count)\n",
    "    pt1 = max(elves)\n",
    "    pt2 = sum(sorted(elves, reverse=True)[:3])\n",
    "    print(f'pt1: {pt1}, pt2: {pt2}')\n",
    "run('test1.txt')\n",
    "run('day1.txt')"
   ]
  },
  {
   "cell_type": "code",
   "execution_count": 45,
   "metadata": {},
   "outputs": [
    {
     "name": "stdout",
     "output_type": "stream",
     "text": [
      "pt1: 15, pt2: 12\n",
      "pt1: 8933, pt2: 11998\n"
     ]
    }
   ],
   "source": [
    "#two\n",
    "def score_pts(op, me, score):\n",
    "    score += me #points for my shape\n",
    "    if me == op+1 or me == op-2:\n",
    "        score += 6 #win\n",
    "    elif me == op:\n",
    "        score += 3 #draw\n",
    "    return score\n",
    "\n",
    "def choose_shape(op, me):\n",
    "    if me == 2:\n",
    "        me2 = op #draw\n",
    "    elif me == 3:\n",
    "        me2 = op-2 if op==3 else op+1 #win\n",
    "    elif me == 1:\n",
    "        me2 = op+2 if op==1 else op-1 #lose\n",
    "    return me2\n",
    "\n",
    "def run(my_file):\n",
    "    lines = open(my_file).read().strip().split('\\n')\n",
    "    # print(lines)\n",
    "    score1, score2 = 0, 0\n",
    "    for line in lines:\n",
    "        op, me = [var_map[line[0]], var_map[line[2]]]\n",
    "        me2 = choose_shape(op, me)\n",
    "        score1 = score_pts(op, me, score1)\n",
    "        score2 = score_pts(op, me2, score2)        \n",
    "    pt1 = score1\n",
    "    pt2 = score2\n",
    "    print(f'pt1: {pt1}, pt2: {pt2}')\n",
    "\n",
    "var_map = {'A':1, 'B':2, 'C':3, 'X':1, 'Y':2, 'Z':3}\n",
    "run('test2.txt')\n",
    "run('day2.txt')"
   ]
  },
  {
   "cell_type": "code",
   "execution_count": 43,
   "metadata": {},
   "outputs": [
    {
     "name": "stdout",
     "output_type": "stream",
     "text": [
      "3\n"
     ]
    }
   ],
   "source": [
    "#three\n",
    "def run(my_file):\n",
    "    lines = open(my_file).read().strip()\n",
    "    pt1 = 0\n",
    "    pt2 = 0\n",
    "    print(f'pt1: {pt1}, pt2: {pt2}')\n",
    "run('test3.txt')\n",
    "# run('day3.txt')"
   ]
  },
  {
   "cell_type": "code",
   "execution_count": null,
   "metadata": {},
   "outputs": [],
   "source": [
    "#two\n",
    "def run(my_file):\n",
    "    lines = open(my_file).read().strip()\n",
    "    pt1 = 0\n",
    "    pt2 = 0\n",
    "    print(f'pt1: {pt1}, pt2: {pt2}')\n",
    "run('test.txt')\n",
    "run('day2.txt')"
   ]
  }
 ],
 "metadata": {
  "kernelspec": {
   "display_name": "Python 3.10.8 64-bit (microsoft store)",
   "language": "python",
   "name": "python3"
  },
  "language_info": {
   "codemirror_mode": {
    "name": "ipython",
    "version": 3
   },
   "file_extension": ".py",
   "mimetype": "text/x-python",
   "name": "python",
   "nbconvert_exporter": "python",
   "pygments_lexer": "ipython3",
   "version": "3.10.8"
  },
  "orig_nbformat": 4,
  "vscode": {
   "interpreter": {
    "hash": "8d5370dd015b7df16d322df052e7d9116955e617b317cdbc0221437cff655c02"
   }
  }
 },
 "nbformat": 4,
 "nbformat_minor": 2
}
