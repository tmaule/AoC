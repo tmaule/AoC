{
 "cells": [
  {
   "cell_type": "code",
   "execution_count": 46,
   "metadata": {},
   "outputs": [
    {
     "name": "stdout",
     "output_type": "stream",
     "text": [
      "pt1: 24000, pt2: 45000\n",
      "pt1: 69177, pt2: 207456\n"
     ]
    }
   ],
   "source": [
    "#one\n",
    "def run(my_file):\n",
    "    inv = open(my_file).read().strip().split('\\n')\n",
    "    count = 0\n",
    "    elves = []\n",
    "    for line in inv:\n",
    "        if line == '':\n",
    "            elves.append(count)\n",
    "            count = 0\n",
    "        else:\n",
    "            count += int(line)\n",
    "    elves.append(count)\n",
    "    pt1 = max(elves)\n",
    "    pt2 = sum(sorted(elves, reverse=True)[:3])\n",
    "    print(f'pt1: {pt1}, pt2: {pt2}')\n",
    "run('test1.txt')\n",
    "run('day1.txt')"
   ]
  },
  {
   "cell_type": "code",
   "execution_count": 45,
   "metadata": {},
   "outputs": [
    {
     "name": "stdout",
     "output_type": "stream",
     "text": [
      "pt1: 15, pt2: 12\n",
      "pt1: 8933, pt2: 11998\n"
     ]
    }
   ],
   "source": [
    "#two\n",
    "def score_pts(op, me, score):\n",
    "    score += me #points for my shape\n",
    "    if me == op+1 or me == op-2:\n",
    "        score += 6 #win\n",
    "    elif me == op:\n",
    "        score += 3 #draw\n",
    "    return score\n",
    "\n",
    "def choose_shape(op, me):\n",
    "    if me == 2:\n",
    "        me2 = op #draw\n",
    "    elif me == 3:\n",
    "        me2 = op-2 if op==3 else op+1 #win\n",
    "    elif me == 1:\n",
    "        me2 = op+2 if op==1 else op-1 #lose\n",
    "    return me2\n",
    "\n",
    "def run(my_file):\n",
    "    lines = open(my_file).read().strip().split('\\n')\n",
    "    # print(lines)\n",
    "    score1, score2 = 0, 0\n",
    "    for line in lines:\n",
    "        op, me = [var_map[line[0]], var_map[line[2]]]\n",
    "        me2 = choose_shape(op, me)\n",
    "        score1 = score_pts(op, me, score1)\n",
    "        score2 = score_pts(op, me2, score2)        \n",
    "    pt1 = score1\n",
    "    pt2 = score2\n",
    "    print(f'pt1: {pt1}, pt2: {pt2}')\n",
    "\n",
    "var_map = {'A':1, 'B':2, 'C':3, 'X':1, 'Y':2, 'Z':3}\n",
    "run('test2.txt')\n",
    "run('day2.txt')"
   ]
  },
  {
   "cell_type": "code",
   "execution_count": 87,
   "metadata": {},
   "outputs": [
    {
     "name": "stdout",
     "output_type": "stream",
     "text": [
      "pt1: 157, pt2: 70\n",
      "pt1: 7597, pt2: 2607\n"
     ]
    }
   ],
   "source": [
    "#three\n",
    "def char_to_prio(char):\n",
    "        prio = ord(char) #raw unicode\n",
    "        adj = 96 if prio>96 else 38 #UC start 65->27; lc 97->1\n",
    "        return prio-adj\n",
    "\n",
    "def sum_of_dupes(lines):\n",
    "    sum_prio = 0\n",
    "    for line in lines:\n",
    "        length = len(line)\n",
    "        halfway = int(length/2)\n",
    "        h1 = line[:halfway]\n",
    "        h2 = line[halfway:]\n",
    "        seeking_dupe = True #stop after processing one duplicate\n",
    "        for c in h1:\n",
    "            if c in h2 and seeking_dupe:\n",
    "                seeking_dupe = False\n",
    "                sum_prio += char_to_prio(c)\n",
    "    return sum_prio\n",
    "\n",
    "def sum_of_badges(lines):\n",
    "    elf, badge_sum = 0, 0\n",
    "    elf_hist = ['', '']\n",
    "    for line in lines:\n",
    "        if elf ==2:   \n",
    "            elf = 0\n",
    "            seeking_badge = True #only count badge once\n",
    "            for c in line:\n",
    "                if c in elf_hist[0] and c in elf_hist[1] and seeking_badge:\n",
    "                    seeking_badge = False\n",
    "                    badge_sum += char_to_prio(c)        \n",
    "        else:\n",
    "            elf_hist[elf] = line\n",
    "            elf += 1             \n",
    "    return badge_sum\n",
    "\n",
    "def run(my_file):\n",
    "    lines = open(my_file).read().strip().split('\\n')    \n",
    "    pt1 = sum_of_dupes(lines)\n",
    "    pt2 = sum_of_badges(lines)\n",
    "    print(f'pt1: {pt1}, pt2: {pt2}')\n",
    "run('test3.txt')\n",
    "run('day3.txt')"
   ]
  },
  {
   "cell_type": "code",
   "execution_count": 106,
   "metadata": {},
   "outputs": [
    {
     "name": "stdout",
     "output_type": "stream",
     "text": [
      "pt1: 2, pt2: 4\n",
      "pt1: 562, pt2: 924\n"
     ]
    }
   ],
   "source": [
    "#four\n",
    "def overlaps(lines):\n",
    "    full, partial = 0, 0\n",
    "    for line in lines:\n",
    "        r1, r2 = line.split(',') #isolate each range as string\n",
    "        elf1, elf2 = [eval(x) for x in r1.split('-')], [eval(y) for y in r2.split('-')] #convert to integer lists\n",
    "        if elf1[0]<=elf2[0] and elf1[1]>=elf2[1]:\n",
    "            full +=1\n",
    "        elif elf2[0]<=elf1[0] and elf2[1]>=elf1[1]:\n",
    "            full +=1\n",
    "        elif elf1[0]<=elf2[0]<=elf1[1] or elf2[0]<=elf1[0]<=elf2[1]:\n",
    "            partial +=1\n",
    "    return full, full+partial\n",
    "\n",
    "def run(my_file):\n",
    "    lines = open(my_file).read().strip().split('\\n') \n",
    "    pt1, pt2 = overlaps(lines)\n",
    "    print(f'pt1: {pt1}, pt2: {pt2}')\n",
    "run('test4.txt')\n",
    "run('day4.txt')"
   ]
  },
  {
   "cell_type": "code",
   "execution_count": 186,
   "metadata": {},
   "outputs": [
    {
     "name": "stdout",
     "output_type": "stream",
     "text": [
      "move 1 from 2 to 1\n",
      "[['D', 'N', 'Z'], ['C', 'M'], ['P']] [['D', 'N', 'Z'], ['C', 'M'], ['P']]\n",
      "1 1 0 [['D', 'N', 'Z'], ['C', 'M'], ['P']] ['C', 'M'] 0\n",
      "move 3 from 1 to 3\n",
      "[['D', 'N', 'Z'], ['M'], ['C', 'P']] [['D', 'N', 'Z'], ['M'], ['C', 'P']]\n",
      "0 3 0 [['D', 'N', 'Z'], ['M'], ['C', 'P']] ['D', 'N', 'Z'] 2\n",
      "[['N'], ['M'], ['D', 'Z', 'C', 'P']] [['N'], ['M'], ['D', 'Z', 'C', 'P']]\n",
      "0 3 1 [['N'], ['M'], ['D', 'Z', 'C', 'P']] ['N'] 1\n"
     ]
    },
    {
     "ename": "IndexError",
     "evalue": "pop index out of range",
     "output_type": "error",
     "traceback": [
      "\u001b[1;31m---------------------------------------------------------------------------\u001b[0m",
      "\u001b[1;31mIndexError\u001b[0m                                Traceback (most recent call last)",
      "Cell \u001b[1;32mIn[186], line 42\u001b[0m\n\u001b[0;32m     40\u001b[0m     pt2 \u001b[39m=\u001b[39m \u001b[39m0\u001b[39m\n\u001b[0;32m     41\u001b[0m     \u001b[39mprint\u001b[39m(\u001b[39mf\u001b[39m\u001b[39m'\u001b[39m\u001b[39mpt1: \u001b[39m\u001b[39m{\u001b[39;00mpt1\u001b[39m}\u001b[39;00m\u001b[39m, pt2: \u001b[39m\u001b[39m{\u001b[39;00mpt2\u001b[39m}\u001b[39;00m\u001b[39m'\u001b[39m)\n\u001b[1;32m---> 42\u001b[0m run(\u001b[39m'\u001b[39;49m\u001b[39mtest5.txt\u001b[39;49m\u001b[39m'\u001b[39;49m)\n\u001b[0;32m     43\u001b[0m run(\u001b[39m'\u001b[39m\u001b[39mday5.txt\u001b[39m\u001b[39m'\u001b[39m)\n",
      "Cell \u001b[1;32mIn[186], line 37\u001b[0m, in \u001b[0;36mrun\u001b[1;34m(my_file)\u001b[0m\n\u001b[0;32m     35\u001b[0m             \u001b[39mprint\u001b[39m(stacks, stacks2)\n\u001b[0;32m     36\u001b[0m             \u001b[39mprint\u001b[39m(source, num_crates, i, stacks2, stacks2[source], num_crates\u001b[39m-\u001b[39mi\u001b[39m-\u001b[39m\u001b[39m1\u001b[39m)\n\u001b[1;32m---> 37\u001b[0m             stacks2[destination]\u001b[39m.\u001b[39minsert(\u001b[39m0\u001b[39m, stacks2[source]\u001b[39m.\u001b[39;49mpop(num_crates\u001b[39m-\u001b[39;49mi\u001b[39m-\u001b[39;49m\u001b[39m1\u001b[39;49m)) \u001b[39m#CrateMover 9001\u001b[39;00m\n\u001b[0;32m     38\u001b[0m         \u001b[39m# print(stacks)\u001b[39;00m\n\u001b[0;32m     39\u001b[0m pt1 \u001b[39m=\u001b[39m \u001b[39m'\u001b[39m\u001b[39m'\u001b[39m\u001b[39m.\u001b[39mjoin([stack[\u001b[39m0\u001b[39m] \u001b[39mfor\u001b[39;00m stack \u001b[39min\u001b[39;00m stacks])\n",
      "\u001b[1;31mIndexError\u001b[0m: pop index out of range"
     ]
    }
   ],
   "source": [
    "#five\n",
    "def parse_instruction(line):\n",
    "        z = line.strip('move ').split(' from ') #break the text into two parts\n",
    "        zz = z[1].split(' to ')\n",
    "        zz.insert(0, z[0]) #now just a list of the three numbers (as text)\n",
    "        return [eval(x) for x in zz] #return as ints\n",
    "\n",
    "def run(my_file):\n",
    "    lines = open(my_file).read().split('\\n') \n",
    "    inv_mode = True #switch to flip after inventory portion of instructions\n",
    "    stacks = list() #make a list of lists to record position of crates\n",
    "    num_stacks = (len(lines[0])+1)//4 #drawing is in increments of 4 chars\n",
    "    for i in range(num_stacks):\n",
    "        stacks.append(list())\n",
    "    # print(stacks)\n",
    "    for line in lines:\n",
    "        if len(line) == 0:\n",
    "            pass\n",
    "        elif line[1] == '1':\n",
    "            inv_mode = False\n",
    "            stacks2 = stacks.copy() #make a second inventory for tracking in pt2\n",
    "            # print(stacks)\n",
    "        elif inv_mode:\n",
    "            #inventory mode: for each alphanumeric character, append to appropriate stack\n",
    "            for i in range(len(line)):\n",
    "                if line[i].isalpha():\n",
    "                    stacks[i//4].append(line[i])\n",
    "        elif line[0] == 'm':\n",
    "            #crane mode: extract crates from source list and insert at front of destination list\n",
    "            print(line)\n",
    "            num_crates, source, destination = parse_instruction(line)\n",
    "            source -=1 ; destination -= 1 #instructions start numbering at 1\n",
    "            for i in range(num_crates):\n",
    "                stacks[destination].insert(0, stacks[source].pop(0)) #CrateMover 9000\n",
    "                print(stacks, stacks2)\n",
    "                print(source, num_crates, i, stacks2, stacks2[source], num_crates-i-1)\n",
    "                stacks2[destination].insert(0, stacks2[source].pop(num_crates-i-1)) #CrateMover 9001\n",
    "            # print(stacks)\n",
    "    pt1 = ''.join([stack[0] for stack in stacks])\n",
    "    pt2 = 0\n",
    "    print(f'pt1: {pt1}, pt2: {pt2}')\n",
    "run('test5.txt')\n",
    "run('day5.txt')"
   ]
  },
  {
   "cell_type": "code",
   "execution_count": 132,
   "metadata": {},
   "outputs": [
    {
     "name": "stdout",
     "output_type": "stream",
     "text": [
      "1 2 3\n"
     ]
    }
   ],
   "source": [
    "x,y,z = [eval(x) for x in ['1','2','3']]\n",
    "print(x,y,z)\n",
    "#create a list for each row -- dict of lists?\n",
    "#when moving, remove the final x terms from list, then reverse them, then append that"
   ]
  },
  {
   "cell_type": "code",
   "execution_count": null,
   "metadata": {},
   "outputs": [],
   "source": [
    "#two\n",
    "def run(my_file):\n",
    "    lines = open(my_file).read().strip().split('\\n') \n",
    "    pt1 = 0\n",
    "    pt2 = 0\n",
    "    print(f'pt1: {pt1}, pt2: {pt2}')\n",
    "run('test2.txt')\n",
    "run('day2.txt')"
   ]
  }
 ],
 "metadata": {
  "kernelspec": {
   "display_name": "Python 3.10.8 64-bit (microsoft store)",
   "language": "python",
   "name": "python3"
  },
  "language_info": {
   "codemirror_mode": {
    "name": "ipython",
    "version": 3
   },
   "file_extension": ".py",
   "mimetype": "text/x-python",
   "name": "python",
   "nbconvert_exporter": "python",
   "pygments_lexer": "ipython3",
   "version": "3.10.8"
  },
  "orig_nbformat": 4,
  "vscode": {
   "interpreter": {
    "hash": "8d5370dd015b7df16d322df052e7d9116955e617b317cdbc0221437cff655c02"
   }
  }
 },
 "nbformat": 4,
 "nbformat_minor": 2
}
