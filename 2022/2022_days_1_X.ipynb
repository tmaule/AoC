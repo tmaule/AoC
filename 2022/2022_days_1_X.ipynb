{
 "cells": [
  {
   "cell_type": "code",
   "execution_count": 46,
   "metadata": {},
   "outputs": [
    {
     "name": "stdout",
     "output_type": "stream",
     "text": [
      "pt1: 24000, pt2: 45000\n",
      "pt1: 69177, pt2: 207456\n"
     ]
    }
   ],
   "source": [
    "#one\n",
    "def run(my_file):\n",
    "    inv = open(my_file).read().strip().split('\\n')\n",
    "    count = 0\n",
    "    elves = []\n",
    "    for line in inv:\n",
    "        if line == '':\n",
    "            elves.append(count)\n",
    "            count = 0\n",
    "        else:\n",
    "            count += int(line)\n",
    "    elves.append(count)\n",
    "    pt1 = max(elves)\n",
    "    pt2 = sum(sorted(elves, reverse=True)[:3])\n",
    "    print(f'pt1: {pt1}, pt2: {pt2}')\n",
    "run('test1.txt')\n",
    "run('day1.txt')"
   ]
  },
  {
   "cell_type": "code",
   "execution_count": 45,
   "metadata": {},
   "outputs": [
    {
     "name": "stdout",
     "output_type": "stream",
     "text": [
      "pt1: 15, pt2: 12\n",
      "pt1: 8933, pt2: 11998\n"
     ]
    }
   ],
   "source": [
    "#two\n",
    "def score_pts(op, me, score):\n",
    "    score += me #points for my shape\n",
    "    if me == op+1 or me == op-2:\n",
    "        score += 6 #win\n",
    "    elif me == op:\n",
    "        score += 3 #draw\n",
    "    return score\n",
    "\n",
    "def choose_shape(op, me):\n",
    "    if me == 2:\n",
    "        me2 = op #draw\n",
    "    elif me == 3:\n",
    "        me2 = op-2 if op==3 else op+1 #win\n",
    "    elif me == 1:\n",
    "        me2 = op+2 if op==1 else op-1 #lose\n",
    "    return me2\n",
    "\n",
    "def run(my_file):\n",
    "    lines = open(my_file).read().strip().split('\\n')\n",
    "    # print(lines)\n",
    "    score1, score2 = 0, 0\n",
    "    for line in lines:\n",
    "        op, me = [var_map[line[0]], var_map[line[2]]]\n",
    "        me2 = choose_shape(op, me)\n",
    "        score1 = score_pts(op, me, score1)\n",
    "        score2 = score_pts(op, me2, score2)        \n",
    "    pt1 = score1\n",
    "    pt2 = score2\n",
    "    print(f'pt1: {pt1}, pt2: {pt2}')\n",
    "\n",
    "var_map = {'A':1, 'B':2, 'C':3, 'X':1, 'Y':2, 'Z':3}\n",
    "run('test2.txt')\n",
    "run('day2.txt')"
   ]
  },
  {
   "cell_type": "code",
   "execution_count": 87,
   "metadata": {},
   "outputs": [
    {
     "name": "stdout",
     "output_type": "stream",
     "text": [
      "pt1: 157, pt2: 70\n",
      "pt1: 7597, pt2: 2607\n"
     ]
    }
   ],
   "source": [
    "#three\n",
    "def char_to_prio(char):\n",
    "        prio = ord(char) #raw unicode\n",
    "        adj = 96 if prio>96 else 38 #UC start 65->27; lc 97->1\n",
    "        return prio-adj\n",
    "\n",
    "def sum_of_dupes(lines):\n",
    "    sum_prio = 0\n",
    "    for line in lines:\n",
    "        length = len(line)\n",
    "        halfway = int(length/2)\n",
    "        h1 = line[:halfway]\n",
    "        h2 = line[halfway:]\n",
    "        seeking_dupe = True #stop after processing one duplicate\n",
    "        for c in h1:\n",
    "            if c in h2 and seeking_dupe:\n",
    "                seeking_dupe = False\n",
    "                sum_prio += char_to_prio(c)\n",
    "    return sum_prio\n",
    "\n",
    "def sum_of_badges(lines):\n",
    "    elf, badge_sum = 0, 0\n",
    "    elf_hist = ['', '']\n",
    "    for line in lines:\n",
    "        if elf ==2:   \n",
    "            elf = 0\n",
    "            seeking_badge = True #only count badge once\n",
    "            for c in line:\n",
    "                if c in elf_hist[0] and c in elf_hist[1] and seeking_badge:\n",
    "                    seeking_badge = False\n",
    "                    badge_sum += char_to_prio(c)        \n",
    "        else:\n",
    "            elf_hist[elf] = line\n",
    "            elf += 1             \n",
    "    return badge_sum\n",
    "\n",
    "def run(my_file):\n",
    "    lines = open(my_file).read().strip().split('\\n')    \n",
    "    pt1 = sum_of_dupes(lines)\n",
    "    pt2 = sum_of_badges(lines)\n",
    "    print(f'pt1: {pt1}, pt2: {pt2}')\n",
    "run('test3.txt')\n",
    "run('day3.txt')"
   ]
  },
  {
   "cell_type": "code",
   "execution_count": null,
   "metadata": {},
   "outputs": [],
   "source": [
    "#two\n",
    "def run(my_file):\n",
    "    lines = open(my_file).read().strip()\n",
    "    pt1 = 0\n",
    "    pt2 = 0\n",
    "    print(f'pt1: {pt1}, pt2: {pt2}')\n",
    "run('test.txt')\n",
    "run('day2.txt')"
   ]
  }
 ],
 "metadata": {
  "kernelspec": {
   "display_name": "Python 3.10.8 64-bit (microsoft store)",
   "language": "python",
   "name": "python3"
  },
  "language_info": {
   "codemirror_mode": {
    "name": "ipython",
    "version": 3
   },
   "file_extension": ".py",
   "mimetype": "text/x-python",
   "name": "python",
   "nbconvert_exporter": "python",
   "pygments_lexer": "ipython3",
   "version": "3.10.8"
  },
  "orig_nbformat": 4,
  "vscode": {
   "interpreter": {
    "hash": "8d5370dd015b7df16d322df052e7d9116955e617b317cdbc0221437cff655c02"
   }
  }
 },
 "nbformat": 4,
 "nbformat_minor": 2
}
