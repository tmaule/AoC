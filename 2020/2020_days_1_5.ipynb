{
 "cells": [
  {
   "cell_type": "code",
   "execution_count": 1,
   "metadata": {},
   "outputs": [],
   "source": [
    "import numpy as np"
   ]
  },
  {
   "cell_type": "code",
   "execution_count": 4,
   "metadata": {},
   "outputs": [
    {
     "name": "stdout",
     "output_type": "stream",
     "text": [
      "pt1: 1016619, pt2: 218767230\n"
     ]
    }
   ],
   "source": [
    "# Day One\n",
    "with open('day_1.txt') as fp:\n",
    "    n = list(map(int, fp.readlines()))\n",
    "    \n",
    "for a in n:\n",
    "    for b in n:\n",
    "        if a + b == 2020:\n",
    "            pt1 = a*b\n",
    "        for c in n:\n",
    "            if a + b + c == 2020:\n",
    "                pt2 = a*b*c\n",
    "print(f'pt1: {pt1}, pt2: {pt2}')"
   ]
  },
  {
   "cell_type": "code",
   "execution_count": 4,
   "metadata": {},
   "outputs": [
    {
     "name": "stdout",
     "output_type": "stream",
     "text": [
      "628\n"
     ]
    }
   ],
   "source": [
    "# Day Two, Puzzle One\n",
    "file = open('day_2.txt')\n",
    "\n",
    "num_pwds = 0\n",
    "for row in file:\n",
    "    line = row.split()\n",
    "    count = 0\n",
    "    min_count, max_count = line[0].split('-')\n",
    "    letter = line[1][0]\n",
    "    pwd = line[2]\n",
    "    for c in pwd:\n",
    "        if c == letter:\n",
    "            count += 1\n",
    "    if count >= int(min_count) and count <= int(max_count):\n",
    "        num_pwds += 1\n",
    "#         print(pwd, letter, count, min_count, max_count)\n",
    "\n",
    "print(num_pwds)"
   ]
  },
  {
   "cell_type": "code",
   "execution_count": 5,
   "metadata": {},
   "outputs": [
    {
     "name": "stdout",
     "output_type": "stream",
     "text": [
      "705\n"
     ]
    }
   ],
   "source": [
    "# Day Two, Puzzle Two\n",
    "file = open('day_2.txt')\n",
    "\n",
    "num_pwds = 0\n",
    "for row in file:\n",
    "    line = row.split()\n",
    "    count = 0\n",
    "    pos1, pos2 = line[0].split('-')\n",
    "    letter = line[1][0]\n",
    "    pwd = line[2]\n",
    "    if pwd[int(pos1)-1] == letter:\n",
    "        count += 1\n",
    "    if pwd[int(pos2)-1] == letter:\n",
    "        count +=1\n",
    "    if count == 1:\n",
    "        num_pwds += 1\n",
    "\n",
    "print(num_pwds)"
   ]
  },
  {
   "cell_type": "code",
   "execution_count": 6,
   "metadata": {},
   "outputs": [
    {
     "name": "stdout",
     "output_type": "stream",
     "text": [
      "173\n"
     ]
    }
   ],
   "source": [
    "# Day Three, Puzzle One\n",
    "file = open('day_3.txt')\n",
    "\n",
    "num_trees = 0\n",
    "col = 0\n",
    "for row in file:\n",
    "    len_row = len(row)-1 #python interprets space at the end...\n",
    "#     print(col)\n",
    "    pos = row[col]\n",
    "    if pos == '#':\n",
    "        num_trees += 1\n",
    "    col += 3\n",
    "    if col >= len_row:\n",
    "        col -= len_row\n",
    "\n",
    "print(num_trees)"
   ]
  },
  {
   "cell_type": "code",
   "execution_count": 7,
   "metadata": {},
   "outputs": [
    {
     "name": "stdout",
     "output_type": "stream",
     "text": [
      "82 173 84 80 46\n",
      "4385176320\n"
     ]
    }
   ],
   "source": [
    "# Day Three, Puzzle Two\n",
    "def tree_counter(right, down):\n",
    "    file = open('day_3.txt')\n",
    "    num_trees = 0\n",
    "    col = 0\n",
    "    des_row = 0\n",
    "    act_row = 0\n",
    "    for row in file:\n",
    "        if act_row != des_row:\n",
    "            act_row += 1\n",
    "            continue\n",
    "        len_row = len(row)-1 #python interprets space at the end...\n",
    "        pos = row[col]\n",
    "        if pos == '#':\n",
    "            num_trees += 1\n",
    "        col += right\n",
    "        if col >= len_row:\n",
    "            col -= len_row\n",
    "        des_row += down\n",
    "        act_row +=1\n",
    "\n",
    "    return num_trees\n",
    "\n",
    "r1d1 = tree_counter(1, 1)\n",
    "r3d1 = tree_counter(3, 1)\n",
    "r5d1 = tree_counter(5, 1)\n",
    "r7d1 = tree_counter(7, 1)\n",
    "r1d2 = tree_counter(1, 2)\n",
    "\n",
    "print(r1d1, r3d1, r5d1, r7d1, r1d2)\n",
    "print(r1d1 * r3d1 * r5d1 * r7d1 * r1d2)"
   ]
  },
  {
   "cell_type": "code",
   "execution_count": 8,
   "metadata": {},
   "outputs": [
    {
     "name": "stdout",
     "output_type": "stream",
     "text": [
      "230 990\n"
     ]
    }
   ],
   "source": [
    "# Day Four, Puzzle One\n",
    "with open('day_4.txt') as file:\n",
    "    data = file.readlines()\n",
    "data.append('\\n') #last line blank does not evaluate\n",
    "\n",
    "def eval_ppt(fields):\n",
    "    req_flds = ['byr', 'iyr', 'eyr', 'hgt', 'hcl', 'ecl', 'pid']\n",
    "    z = 0\n",
    "    for f in req_flds:\n",
    "        if f in fields:\n",
    "            z += 1\n",
    "    if z == len(req_flds):\n",
    "#         print('--GOOD--')\n",
    "        return 1\n",
    "    else:\n",
    "#         print('--BAD--')\n",
    "        return 0\n",
    "\n",
    "good_ppts = 0\n",
    "fields = []\n",
    "batch_num = 0\n",
    "for batch in data:\n",
    "#     print(batch_num, fields)\n",
    "    batch_num += 1\n",
    "    if batch == '\\n':\n",
    "        good_ppts += eval_ppt(fields)\n",
    "        fields = []\n",
    "    else:\n",
    "        batch_entries = batch.split(' ')\n",
    "        for e in batch_entries:\n",
    "            field, content = e.split(':')\n",
    "            fields.append(field)\n",
    "\n",
    "# print(batch_num, fields)\n",
    "print(good_ppts, batch_num)\n"
   ]
  },
  {
   "cell_type": "code",
   "execution_count": 9,
   "metadata": {},
   "outputs": [
    {
     "name": "stdout",
     "output_type": "stream",
     "text": [
      "156 990\n"
     ]
    }
   ],
   "source": [
    "# Day Four, Puzzle Two\n",
    "def eval_fld(field, content):\n",
    "    hcl_chars = {'0', '1', '2', '3', '4', '5', '6', '7', '8', '9', 'a', 'b', 'c', 'd', 'e', 'f'}\n",
    "    ecl_choices = {'amb', 'blu', 'brn', 'gry', 'grn', 'hzl', 'oth'}\n",
    "    digits = {'0', '1', '2', '3', '4', '5', '6', '7', '8', '9'}\n",
    "    if field == 'byr':\n",
    "        if int(content) >= 1920 and int(content) <= 2002:\n",
    "            return True\n",
    "        else:\n",
    "            return False\n",
    "    elif field == 'iyr':\n",
    "        if int(content) >= 2010 and int(content) <= 2020:\n",
    "            return True\n",
    "        else:\n",
    "            return False\n",
    "    elif field == 'eyr':\n",
    "        if int(content) >= 2020 and int(content) <= 2030:\n",
    "            return True\n",
    "        else:\n",
    "            return False\n",
    "    elif field == 'hgt':\n",
    "        num, unit = content[:-2], content[-2:]\n",
    "        if num.isnumeric():\n",
    "            num = int(num)\n",
    "        else:\n",
    "            num = 0\n",
    "#         print(content, num, unit)\n",
    "        if unit == 'cm' and num >= 150 and num <= 193:\n",
    "            return True\n",
    "        elif unit == 'in' and num >= 59 and num <= 76:\n",
    "            return True\n",
    "        else:\n",
    "            return False\n",
    "    elif field == 'hcl':\n",
    "        if content[0] == '#' and len(content) == 7:\n",
    "            if [c in hcl_chars for c in content[1:]]:\n",
    "                return True\n",
    "        return False\n",
    "    elif field == 'ecl':\n",
    "        if content in ecl_choices:\n",
    "            return True\n",
    "        else:\n",
    "            return False\n",
    "    elif field == 'pid':\n",
    "        if len(content) == 9 and content.isnumeric():\n",
    "            return True\n",
    "        else:\n",
    "            return False\n",
    "    elif field == 'cid':\n",
    "        return True\n",
    "    \n",
    "def eval_ppt(fields):\n",
    "    req_flds = ['byr', 'iyr', 'eyr', 'hgt', 'hcl', 'ecl', 'pid']\n",
    "    z = 0\n",
    "    for f in req_flds:\n",
    "        if f in fields:\n",
    "            z += 1\n",
    "    if z == len(req_flds):\n",
    "#         print('--GOOD--')\n",
    "        return 1\n",
    "    else:\n",
    "#         print('--BAD--')\n",
    "        return 0\n",
    "\n",
    "good_ppts = 0\n",
    "fields = []\n",
    "batch_num = 0\n",
    "for batch in data:\n",
    "#     print(batch_num, fields)\n",
    "    batch_num += 1\n",
    "    if batch == '\\n':\n",
    "#         print('-EVAL-', fields)\n",
    "        good_ppts += eval_ppt(fields)\n",
    "        fields = []\n",
    "    else:\n",
    "        batch_entries = batch.split(' ')\n",
    "        for e in batch_entries:\n",
    "            field, content = e.split(':')\n",
    "            content = content.strip('\\n')\n",
    "#             print(field, content, len(content))\n",
    "            if eval_fld(field, content): #only count this fld if meets criteria\n",
    "#                 print('--ACCEPTED--')\n",
    "                fields.append(field)\n",
    "\n",
    "print(good_ppts, batch_num)\n"
   ]
  },
  {
   "cell_type": "code",
   "execution_count": 10,
   "metadata": {},
   "outputs": [
    {
     "name": "stdout",
     "output_type": "stream",
     "text": [
      "866 782\n"
     ]
    }
   ],
   "source": [
    "# Day Five, Puzzle One\n",
    "with open('day_5.txt') as file:\n",
    "    data = file.readlines()\n",
    "\n",
    "def convert_binary_to_seat_id(binary, num_rows, num_cols):\n",
    "    row = 0\n",
    "    col = 0\n",
    "    row_jump = num_rows // 2 #two slashes in python 3 for integer output\n",
    "    col_jump = num_cols // 2\n",
    "    for c in binary[0:7]:\n",
    "        if c == 'B':\n",
    "            row += row_jump\n",
    "        row_jump = row_jump // 2\n",
    "    for c in binary[7:10]:\n",
    "        if c == 'R':\n",
    "            col += col_jump\n",
    "        col_jump = col_jump // 2\n",
    "    seat_id = row * 8 + col\n",
    "#     print(row, col, seat_id, binary)\n",
    "    return seat_id\n",
    "\n",
    "num_rows = 128\n",
    "num_cols = 8\n",
    "seat_ids = set()\n",
    "\n",
    "# convert_binary_to_seat_id('FBFBBFFRLR', num_rows, num_cols) #test\n",
    "for line in data:\n",
    "    this_id = convert_binary_to_seat_id(line, num_rows, num_cols)\n",
    "    seat_ids.add(this_id)\n",
    "    \n",
    "print(max(seat_ids), len(seat_ids))\n",
    "\n",
    "    \n"
   ]
  },
  {
   "cell_type": "code",
   "execution_count": 11,
   "metadata": {},
   "outputs": [
    {
     "name": "stdout",
     "output_type": "stream",
     "text": [
      "583\n"
     ]
    }
   ],
   "source": [
    "# Day Five, Puzzle Two\n",
    "my_seat = 0\n",
    "\n",
    "for i in range(len(seat_ids) - 1):\n",
    "    if sorted(seat_ids)[i+1] != sorted(seat_ids)[i] + 1:\n",
    "        my_seat = sorted(seat_ids)[i] + 1\n",
    "        \n",
    "print(my_seat)\n",
    "# print(sorted(seat_ids))"
   ]
  }
 ],
 "metadata": {
  "kernelspec": {
   "display_name": "Python 3",
   "language": "python",
   "name": "python3"
  },
  "language_info": {
   "codemirror_mode": {
    "name": "ipython",
    "version": 3
   },
   "file_extension": ".py",
   "mimetype": "text/x-python",
   "name": "python",
   "nbconvert_exporter": "python",
   "pygments_lexer": "ipython3",
   "version": "3.8.5"
  }
 },
 "nbformat": 4,
 "nbformat_minor": 4
}
