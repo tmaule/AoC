{
 "cells": [
  {
   "cell_type": "code",
   "execution_count": 1,
   "metadata": {},
   "outputs": [
    {
     "name": "stdout",
     "output_type": "stream",
     "text": [
      "6549 474\n"
     ]
    }
   ],
   "source": [
    "# Day Six, Puzzle One\n",
    "with open('day_6.txt') as file:\n",
    "    data = file.readlines()\n",
    "data.append('\\n') #last line blank does not evaluate\n",
    "\n",
    "num_answered_per_group = list()\n",
    "qs_answered = set()\n",
    "line_num = 0\n",
    "for line in data:\n",
    "#     print(line_num, num_answered_per_group, qs_answered)\n",
    "    line_num += 1\n",
    "    if line == '\\n':\n",
    "        num_answered_per_group.append(len(qs_answered))\n",
    "        qs_answered.clear()\n",
    "    else:\n",
    "        line = line.strip('\\n')\n",
    "        for c in line:\n",
    "            qs_answered.add(c)\n",
    "            \n",
    "print(sum(num_answered_per_group), len(num_answered_per_group))"
   ]
  },
  {
   "cell_type": "code",
   "execution_count": 2,
   "metadata": {},
   "outputs": [
    {
     "name": "stdout",
     "output_type": "stream",
     "text": [
      "3466 474\n"
     ]
    }
   ],
   "source": [
    "# Day Six, Puzzle Two\n",
    "num_answered_per_group = list()\n",
    "qs_answered = set()\n",
    "new_group = True\n",
    "line_num = 0\n",
    "for line in data:\n",
    "#     print(line_num, num_answered_per_group, qs_answered)\n",
    "    line_num += 1\n",
    "    if line == '\\n':\n",
    "        num_answered_per_group.append(len(qs_answered))\n",
    "        qs_answered.clear()\n",
    "        new_group = True\n",
    "    else:\n",
    "        line = line.strip('\\n')\n",
    "        if qs_answered == set() and new_group == True:\n",
    "            new_group = False\n",
    "            for c in line:\n",
    "                qs_answered.add(c)\n",
    "        else:\n",
    "            for c in sorted(qs_answered):\n",
    "                if c not in line:\n",
    "                    qs_answered.remove(c)\n",
    "            \n",
    "print(sum(num_answered_per_group), len(num_answered_per_group))"
   ]
  },
  {
   "cell_type": "code",
   "execution_count": 69,
   "metadata": {},
   "outputs": [
    {
     "name": "stdout",
     "output_type": "stream",
     "text": [
      "287\n"
     ]
    }
   ],
   "source": [
    "# Day Seven, Puzzle One\n",
    "with open('day_7.txt') as file:\n",
    "    data = file.readlines()\n",
    "    \n",
    "bag_map = dict()\n",
    "for line in data:\n",
    "    key, values = line.split(' bags contain ')\n",
    "    end_vals = []\n",
    "    if 'no other bags' in values:\n",
    "        end_vals = ['end']\n",
    "    else:\n",
    "        val_bags = values.split(',')\n",
    "        count = 0\n",
    "        for b in val_bags:\n",
    "            keep, discard = b.split(' ba')\n",
    "            if count == 0:\n",
    "                keep = keep[2:]\n",
    "                count += 1\n",
    "            else:\n",
    "                keep = keep[3:]\n",
    "            end_vals.append(keep)\n",
    "    bag_map[key] = end_vals\n",
    "    \n",
    "# print(bag_map)\n",
    "total_web = dict()\n",
    "for k, v in bag_map.items():\n",
    "    total_web[k] = set()\n",
    "    queue = list()\n",
    "    for b in v:\n",
    "        queue.append(b)\n",
    "    while queue != list():\n",
    "        for bag in queue:\n",
    "#             print(bag)\n",
    "            queue.remove(bag)\n",
    "            if bag != 'end':\n",
    "                total_web[k].add(bag)\n",
    "                for b in bag_map[bag]:\n",
    "                    queue.append(b)\n",
    "                \n",
    "shiny_golds = 0\n",
    "for w in total_web:\n",
    "    if 'shiny gold' in total_web[w]:\n",
    "        shiny_golds +=1\n",
    "print(shiny_golds)"
   ]
  },
  {
   "cell_type": "code",
   "execution_count": 70,
   "metadata": {},
   "outputs": [
    {
     "name": "stdout",
     "output_type": "stream",
     "text": [
      "48160\n",
      "{'plaid tan': 0, 'light beige': 0, 'posh brown': 0, 'clear purple': 0, 'plaid teal': 0, 'plaid fuchsia': 0, 'clear turquoise': 0, 'drab white': 0, 'muted bronze': 0, 'shiny silver': 0, 'pale salmon': 0, 'pale black': 0, 'plaid purple': 0, 'bright gold': 0, 'wavy plum': 0, 'bright white': 0, 'dotted blue': 0, 'pale purple': 0, 'drab magenta': 0, 'vibrant orange': 0, 'wavy lime': 0}\n"
     ]
    }
   ],
   "source": [
    "# Day Seven, Puzzle Two\n",
    "bag_map = dict()\n",
    "num_tracker = dict()\n",
    "num = 0\n",
    "for line in data:\n",
    "    key, values = line.split(' bags contain ')\n",
    "    end_vals = []\n",
    "    if 'no other bags' in values:\n",
    "        end_vals = ['end']\n",
    "        num_tracker[key] = 'end'\n",
    "    else:\n",
    "        val_bags = values.split(',')\n",
    "        count = 0\n",
    "        for b in val_bags:\n",
    "            keep, discard = b.split(' ba')\n",
    "#             print(keep, count, keep[0], keep[1])\n",
    "            if count == 0:\n",
    "                bag = keep[2:]\n",
    "                num = keep[0]\n",
    "                count += 1\n",
    "            else:\n",
    "                bag = keep[3:]\n",
    "                num = keep[1]\n",
    "            end_vals.append(bag)\n",
    "            if key not in num_tracker:\n",
    "                num_tracker[key] = dict()\n",
    "            num_tracker[key][bag] = int(num)\n",
    "    bag_map[key] = end_vals\n",
    "    \n",
    "my_bags = dict()\n",
    "total_bags = 0\n",
    "first_bag = 'shiny gold'\n",
    "for bag in bag_map[first_bag]: #populate my_bag\n",
    "    my_bags[bag] = num_tracker[first_bag][bag]\n",
    "    \n",
    "while sum(my_bags.values()) > 0:\n",
    "    for k, v in sorted(my_bags.items()):\n",
    "        my_bags[k] -= v\n",
    "        total_bags += v\n",
    "        for bag in bag_map[k]:\n",
    "            if bag != 'end':\n",
    "                if bag not in my_bags:\n",
    "                    my_bags[bag] = 0\n",
    "    #             print(bag, my_bags)\n",
    "                my_bags[bag] += v * num_tracker[k][bag]\n",
    "print(total_bags)\n",
    "print(my_bags)"
   ]
  },
  {
   "cell_type": "code",
   "execution_count": 65,
   "metadata": {},
   "outputs": [
    {
     "name": "stdout",
     "output_type": "stream",
     "text": [
      "1451 441\n"
     ]
    }
   ],
   "source": [
    "# Day Eight, Puzzle One\n",
    "with open('day_8.txt') as file:\n",
    "    data = file.readlines()\n",
    "    \n",
    "accumulator = 0\n",
    "pos = 0\n",
    "visited = set()\n",
    "while pos not in visited:\n",
    "    code, num = data[pos].split(' ')\n",
    "    num = int(num)\n",
    "    if code == 'acc':\n",
    "        accumulator += num\n",
    "        new_pos = pos + 1\n",
    "    elif code == 'jmp':\n",
    "        new_pos = pos + num\n",
    "    elif code == 'nop':\n",
    "        new_pos = pos + 1\n",
    "    visited.add(pos)\n",
    "    pos = new_pos\n",
    "print(accumulator, pos)"
   ]
  },
  {
   "cell_type": "code",
   "execution_count": 67,
   "metadata": {},
   "outputs": [
    {
     "name": "stdout",
     "output_type": "stream",
     "text": [
      "1160 434 624\n"
     ]
    }
   ],
   "source": [
    "# Day Eight, Puzzle Two\n",
    "accumulator = 0\n",
    "pos = 0\n",
    "candidates = list()\n",
    "for i in range(len(data)):\n",
    "    code, num = data[i].split(' ')\n",
    "    num = int(num)\n",
    "    if code == 'acc':\n",
    "        accumulator += num\n",
    "        new_pos = pos + 1\n",
    "    elif code == 'jmp':\n",
    "        new_pos = pos + num\n",
    "        candidates.append(i)\n",
    "    elif code == 'nop':\n",
    "        new_pos = pos + 1\n",
    "        candidates.append(i)\n",
    "    pos = new_pos\n",
    "\n",
    "\n",
    "max_pos = len(data) - 1\n",
    "found = 0\n",
    "for can in candidates:\n",
    "    accumulator = 0\n",
    "    pos = 0\n",
    "    for i in range(10000):\n",
    "        code, num = data[pos].split(' ')\n",
    "        num = int(num)\n",
    "        if pos == can:\n",
    "            if code == 'jmp':\n",
    "                code = 'nop'\n",
    "            elif code == 'nop':\n",
    "                code = 'jmp'\n",
    "        if code == 'acc':\n",
    "            accumulator += num\n",
    "            new_pos = pos + 1\n",
    "        elif code == 'jmp':\n",
    "            new_pos = pos + num\n",
    "        elif code == 'nop':\n",
    "            new_pos = pos + 1\n",
    "        if new_pos > max_pos and found == 0:\n",
    "            found = 1\n",
    "            print(accumulator, can, pos)\n",
    "        if found == 1:\n",
    "            continue\n",
    "        pos = new_pos\n"
   ]
  },
  {
   "cell_type": "code",
   "execution_count": 110,
   "metadata": {},
   "outputs": [
    {
     "name": "stdout",
     "output_type": "stream",
     "text": [
      "552655238 70672245\n"
     ]
    }
   ],
   "source": [
    "# Day Nine\n",
    "import itertools\n",
    "with open('day_9.txt') as file:\n",
    "    data = file.readlines()\n",
    "data = list(map(int, data))\n",
    "    \n",
    "def first_failure(data, len_preamble):\n",
    "    for i in range(len_preamble, len(data)):\n",
    "        num = data[i]\n",
    "        valid = False\n",
    "        start = i - len_preamble\n",
    "        all_combs = list(itertools.combinations(data[start:i], 2))\n",
    "        for comb in all_combs:\n",
    "            if sum(comb) == num and not valid:\n",
    "                valid = True\n",
    "        if not valid:\n",
    "            return num, i\n",
    "    return 'no fails', 'index n/a'\n",
    "        \n",
    "pt_one, index_pt_one = first_failure(data, 25)\n",
    "#part two\n",
    "def find_weakness(data, target):\n",
    "    for i in range(len(data)):\n",
    "        contiguous_range = [data[i]]\n",
    "        j = i\n",
    "        while sum(contiguous_range) < target:\n",
    "            j += 1\n",
    "            contiguous_range.append(data[j])\n",
    "        if sum(contiguous_range) == target:\n",
    "            sub1 = min(contiguous_range)\n",
    "            sub2 = max(contiguous_range)\n",
    "            weakness = sub1 + sub2\n",
    "            return weakness, i, j, sub1, sub2\n",
    "        \n",
    "# print(data)\n",
    "pt_two, start_idx, end_idx, sub1, sub2 = find_weakness(data, pt_one)\n",
    "# print(pt_two, start_idx, end_idx, sub1, sub2)\n",
    "print(pt_one, pt_two)"
   ]
  },
  {
   "cell_type": "code",
   "execution_count": 90,
   "metadata": {},
   "outputs": [
    {
     "name": "stdout",
     "output_type": "stream",
     "text": [
      "pt1: 2112, pt2: 3022415986688\n"
     ]
    }
   ],
   "source": [
    "# Day Ten, CLEAN\n",
    "from collections import Counter  \n",
    "with open('day_10.txt') as file:\n",
    "    lines = list(map(int, file.readlines()))\n",
    "adapters = sorted(lines + [0] + [max(lines)+3]) #include wall adapter and device adapter (bookends)\n",
    "\n",
    "diffs = [adapters[i] - adapters[i-1] for i in range(1, len(adapters))]\n",
    "pt1 = diffs.count(1) * diffs.count(3)\n",
    "# part two\n",
    "c = Counter({0:1})  \n",
    "for x in adapters:  \n",
    "    c[x+1] += c[x]  \n",
    "    c[x+2] += c[x]  \n",
    "    c[x+3] += c[x] \n",
    "pt2 = c[max(adapters)]\n",
    "print(f'pt1: {pt1}, pt2: {pt2}')"
   ]
  },
  {
   "cell_type": "code",
   "execution_count": 88,
   "metadata": {},
   "outputs": [
    {
     "name": "stdout",
     "output_type": "stream",
     "text": [
      "2112 66 32\n",
      "3022415986688\n"
     ]
    }
   ],
   "source": [
    "# Day Ten, ORIGINAL\n",
    "import numpy as np\n",
    "with open('day_10.txt') as fp:\n",
    "    lines = list(map(int, fp.readlines()))\n",
    "\n",
    "s = sorted(lines)\n",
    "s.insert(0, 0) #seat adapter\n",
    "s.append(s[-1] + 3) #built-in\n",
    "diff1 = 0\n",
    "diff3 = 0\n",
    "n = len(s) - 1 #num connections to be made in chain\n",
    "for i in range(n):\n",
    "    d = s[i+1] - s[i]\n",
    "    if d == 1:\n",
    "        diff1 += 1\n",
    "    elif d == 3:\n",
    "        diff3 += 1\n",
    "print(diff1*diff3, diff1, diff3)\n",
    "# part two\n",
    "all_paths = np.array([1])\n",
    "must_pass = list()\n",
    "\n",
    "for i in range(n): #establish nodes which all possible routes must touch\n",
    "    if s[i+1] == s[i] + 3:\n",
    "        must_pass.append(s[i])\n",
    "must_pass.append(s[-1]) #must get to final node\n",
    "        \n",
    "val = 0\n",
    "idx = 0\n",
    "for i in range(len(must_pass)):\n",
    "    target = must_pass[i]\n",
    "    ways = 0\n",
    "    moves = list()\n",
    "    for j in range(idx+1, min(n+1, idx+4)):\n",
    "        if s[j] > val and s[j] <= val+3:\n",
    "            moves.append(j)\n",
    "    while moves != list():\n",
    "#         print(moves)\n",
    "        for j in moves:\n",
    "            if s[j] == target:\n",
    "                ways += 1\n",
    "            else:\n",
    "                for k in range(j+1, min(j+4, n+1)):\n",
    "                    if s[k] > s[j] and s[k] <= s[j] + 3:\n",
    "                        moves.append(k)\n",
    "            moves.remove(j)\n",
    "    all_paths = np.append(all_paths, ways)\n",
    "    val = target\n",
    "    idx = s.index(val)\n",
    "    \n",
    "all_paths = all_paths.astype(float)\n",
    "print(int(np.prod(all_paths)))\n",
    "# print(all_paths)"
   ]
  }
 ],
 "metadata": {
  "kernelspec": {
   "display_name": "Python 3",
   "language": "python",
   "name": "python3"
  },
  "language_info": {
   "codemirror_mode": {
    "name": "ipython",
    "version": 3
   },
   "file_extension": ".py",
   "mimetype": "text/x-python",
   "name": "python",
   "nbconvert_exporter": "python",
   "pygments_lexer": "ipython3",
   "version": "3.8.5"
  }
 },
 "nbformat": 4,
 "nbformat_minor": 4
}
